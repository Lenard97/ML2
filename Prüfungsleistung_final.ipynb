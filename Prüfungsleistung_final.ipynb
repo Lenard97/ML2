{
 "cells": [
  {
   "cell_type": "code",
   "execution_count": 1,
   "id": "77fe4b1cb263ad39",
   "metadata": {
    "collapsed": true,
    "ExecuteTime": {
     "end_time": "2023-10-28T20:30:54.216382200Z",
     "start_time": "2023-10-28T20:30:51.803979300Z"
    }
   },
   "outputs": [
    {
     "ename": "ModuleNotFoundError",
     "evalue": "No module named 'scipy'",
     "output_type": "error",
     "traceback": [
      "\u001B[1;31m---------------------------------------------------------------------------\u001B[0m",
      "\u001B[1;31mModuleNotFoundError\u001B[0m                       Traceback (most recent call last)",
      "Cell \u001B[1;32mIn[1], line 5\u001B[0m\n\u001B[0;32m      3\u001B[0m \u001B[38;5;28;01mimport\u001B[39;00m \u001B[38;5;21;01mtensorflow\u001B[39;00m \u001B[38;5;28;01mas\u001B[39;00m \u001B[38;5;21;01mtf\u001B[39;00m\n\u001B[0;32m      4\u001B[0m \u001B[38;5;28;01mimport\u001B[39;00m \u001B[38;5;21;01mkeras\u001B[39;00m \u001B[38;5;28;01mas\u001B[39;00m \u001B[38;5;21;01mkeras\u001B[39;00m\n\u001B[1;32m----> 5\u001B[0m \u001B[38;5;28;01mimport\u001B[39;00m \u001B[38;5;21;01mscipy\u001B[39;00m\n\u001B[0;32m      7\u001B[0m \u001B[38;5;66;03m#import data\u001B[39;00m\n\u001B[0;32m      9\u001B[0m data_path \u001B[38;5;241m=\u001B[39m \u001B[38;5;124m'\u001B[39m\u001B[38;5;124mC:\u001B[39m\u001B[38;5;130;01m\\\\\u001B[39;00m\u001B[38;5;124mUsers\u001B[39m\u001B[38;5;130;01m\\\\\u001B[39;00m\u001B[38;5;124mg065308\u001B[39m\u001B[38;5;130;01m\\\\\u001B[39;00m\u001B[38;5;124mDrive Merkur.works\u001B[39m\u001B[38;5;130;01m\\\\\u001B[39;00m\u001B[38;5;124mMasterstudium\u001B[39m\u001B[38;5;130;01m\\\\\u001B[39;00m\u001B[38;5;124mMachine Learning - Neuronale Netze und Deep Learning\u001B[39m\u001B[38;5;130;01m\\\\\u001B[39;00m\u001B[38;5;124mMNS_Bilder\u001B[39m\u001B[38;5;124m'\u001B[39m\n",
      "\u001B[1;31mModuleNotFoundError\u001B[0m: No module named 'scipy'"
     ]
    }
   ],
   "source": [
    "#import\n",
    "import numpy as np\n",
    "import tensorflow as tf\n",
    "import keras as keras\n",
    "import scipy\n",
    "\n",
    "#import data\n",
    "\n",
    "data_path = 'C:\\\\Users\\\\g065308\\\\Drive Merkur.works\\\\Masterstudium\\\\Machine Learning - Neuronale Netze und Deep Learning\\\\MNS_Bilder'\n",
    "\n",
    "from PIL import ImageFile\n",
    "ImageFile.LOAD_TRUNCATED_IMAGES = True\n",
    "from keras.preprocessing.image import ImageDataGenerator"
   ]
  },
  {
   "cell_type": "code",
   "execution_count": 2,
   "outputs": [
    {
     "name": "stdout",
     "output_type": "stream",
     "text": [
      "Found 31760 images belonging to 4 classes.\n",
      "Found 7938 images belonging to 4 classes.\n"
     ]
    }
   ],
   "source": [
    "# Bildgröße definieren\n",
    "IMG_SIZE = 160\n",
    "BATCH_SIZE = 32\n",
    "\n",
    "datagen = ImageDataGenerator(rescale=1./255, validation_split=0.2)\n",
    "\n",
    "train_generator = datagen.flow_from_directory(\n",
    "    data_path,\n",
    "    target_size=(IMG_SIZE, IMG_SIZE),\n",
    "    batch_size=BATCH_SIZE,\n",
    "    class_mode='categorical',\n",
    "    subset='training'\n",
    ")\n",
    "\n",
    "validation_generator = datagen.flow_from_directory(\n",
    "    data_path,\n",
    "    target_size=(IMG_SIZE, IMG_SIZE),\n",
    "    batch_size=BATCH_SIZE,\n",
    "    class_mode='categorical',\n",
    "    subset='validation'\n",
    ")"
   ],
   "metadata": {
    "collapsed": false,
    "ExecuteTime": {
     "end_time": "2023-10-16T17:43:40.728548700Z",
     "start_time": "2023-10-16T17:43:38.881212600Z"
    }
   },
   "id": "initial_id"
  },
  {
   "cell_type": "code",
   "execution_count": 3,
   "outputs": [],
   "source": [
    "# 1. Architektur des Modells definieren\n",
    "model = tf.keras.models.Sequential([\n",
    "    tf.keras.layers.Conv2D(32, (3,3), activation='relu', input_shape=(IMG_SIZE, IMG_SIZE, 3)),\n",
    "    tf.keras.layers.BatchNormalization(),\n",
    "    tf.keras.layers.Conv2D(32, (3,3), activation='relu'),\n",
    "    tf.keras.layers.BatchNormalization(),\n",
    "    tf.keras.layers.MaxPooling2D(2, 2),\n",
    "    tf.keras.layers.Dropout(0.25),\n",
    "\n",
    "    tf.keras.layers.Conv2D(64, (3,3), activation='relu'),\n",
    "    tf.keras.layers.BatchNormalization(),\n",
    "    tf.keras.layers.Conv2D(64, (3,3), activation='relu'),\n",
    "    tf.keras.layers.BatchNormalization(),\n",
    "    tf.keras.layers.MaxPooling2D(2,2),\n",
    "    tf.keras.layers.Dropout(0.25),\n",
    "\n",
    "    tf.keras.layers.Conv2D(128, (3,3), activation='relu'),\n",
    "    tf.keras.layers.BatchNormalization(),\n",
    "    tf.keras.layers.Conv2D(128, (3,3), activation='relu'),\n",
    "    tf.keras.layers.BatchNormalization(),\n",
    "    tf.keras.layers.MaxPooling2D(2,2),\n",
    "    tf.keras.layers.Dropout(0.25),\n",
    "\n",
    "    tf.keras.layers.Flatten(),\n",
    "    tf.keras.layers.Dense(512, activation='relu'),\n",
    "    tf.keras.layers.BatchNormalization(),\n",
    "    tf.keras.layers.Dropout(0.5),\n",
    "    \n",
    "    tf.keras.layers.Dense(4, activation='softmax')\n",
    "])"
   ],
   "metadata": {
    "collapsed": false,
    "ExecuteTime": {
     "end_time": "2023-10-16T17:43:41.194636400Z",
     "start_time": "2023-10-16T17:43:40.719156600Z"
    }
   },
   "id": "e45d0195962edc"
  },
  {
   "cell_type": "code",
   "execution_count": 4,
   "outputs": [],
   "source": [
    "# 2. Modell kompilieren\n",
    "optimizer = tf.keras.optimizers.Adam(learning_rate=0.001)\n",
    "model.compile(optimizer=optimizer, loss='categorical_crossentropy', metrics=['accuracy'])\n",
    "\n",
    "# Lernratenreduktion (optional)\n",
    "reduce_lr = tf.keras.callbacks.ReduceLROnPlateau(\n",
    "    monitor='val_loss', \n",
    "    factor=0.2,\n",
    "    patience=5, \n",
    "    min_lr=0.00001 \n",
    ")"
   ],
   "metadata": {
    "collapsed": false,
    "ExecuteTime": {
     "end_time": "2023-10-16T17:43:41.247555500Z",
     "start_time": "2023-10-16T17:43:41.201195400Z"
    }
   },
   "id": "e65958f893f9345c"
  },
  {
   "cell_type": "code",
   "execution_count": 5,
   "outputs": [
    {
     "name": "stdout",
     "output_type": "stream",
     "text": [
      "Epoch 1/30\n",
      "992/992 [==============================] - 2418s 2s/step - loss: 1.1843 - accuracy: 0.5146 - val_loss: 1.9776 - val_accuracy: 0.4840 - lr: 0.0010\n",
      "Epoch 2/30\n",
      "992/992 [==============================] - 2416s 2s/step - loss: 0.7264 - accuracy: 0.7007 - val_loss: 0.6725 - val_accuracy: 0.7374 - lr: 0.0010\n",
      "Epoch 3/30\n",
      "992/992 [==============================] - 2361s 2s/step - loss: 0.5752 - accuracy: 0.7700 - val_loss: 0.5115 - val_accuracy: 0.8082 - lr: 0.0010\n",
      "Epoch 4/30\n",
      "992/992 [==============================] - 2420s 2s/step - loss: 0.4677 - accuracy: 0.8165 - val_loss: 0.4316 - val_accuracy: 0.8327 - lr: 0.0010\n",
      "Epoch 5/30\n",
      "992/992 [==============================] - 2433s 2s/step - loss: 0.4170 - accuracy: 0.8359 - val_loss: 1.0597 - val_accuracy: 0.6985 - lr: 0.0010\n",
      "Epoch 6/30\n",
      "992/992 [==============================] - 2416s 2s/step - loss: 0.3346 - accuracy: 0.8715 - val_loss: 0.7704 - val_accuracy: 0.7812 - lr: 0.0010\n",
      "Epoch 7/30\n",
      "992/992 [==============================] - 2394s 2s/step - loss: 0.3031 - accuracy: 0.8840 - val_loss: 0.3880 - val_accuracy: 0.8740 - lr: 0.0010\n",
      "Epoch 8/30\n",
      "992/992 [==============================] - 2460s 2s/step - loss: 0.2783 - accuracy: 0.8926 - val_loss: 0.4923 - val_accuracy: 0.8349 - lr: 0.0010\n",
      "Epoch 9/30\n",
      "992/992 [==============================] - 2444s 2s/step - loss: 0.3034 - accuracy: 0.8857 - val_loss: 0.3965 - val_accuracy: 0.8671 - lr: 0.0010\n",
      "Epoch 10/30\n",
      "992/992 [==============================] - 2468s 2s/step - loss: 0.2273 - accuracy: 0.9138 - val_loss: 0.3514 - val_accuracy: 0.8819 - lr: 0.0010\n",
      "Epoch 11/30\n",
      "992/992 [==============================] - 2470s 2s/step - loss: 0.1840 - accuracy: 0.9307 - val_loss: 0.3740 - val_accuracy: 0.8758 - lr: 0.0010\n",
      "Epoch 12/30\n",
      "992/992 [==============================] - 2439s 2s/step - loss: 0.2057 - accuracy: 0.9255 - val_loss: 0.3808 - val_accuracy: 0.8852 - lr: 0.0010\n",
      "Epoch 13/30\n",
      "992/992 [==============================] - 2428s 2s/step - loss: 0.1980 - accuracy: 0.9274 - val_loss: 0.3527 - val_accuracy: 0.8895 - lr: 0.0010\n",
      "Epoch 14/30\n",
      "992/992 [==============================] - 2435s 2s/step - loss: 0.1534 - accuracy: 0.9429 - val_loss: 0.4052 - val_accuracy: 0.8805 - lr: 0.0010\n",
      "Epoch 15/30\n",
      "992/992 [==============================] - 2431s 2s/step - loss: 0.1635 - accuracy: 0.9406 - val_loss: 0.8130 - val_accuracy: 0.6812 - lr: 0.0010\n",
      "Epoch 16/30\n",
      "992/992 [==============================] - 2456s 2s/step - loss: 0.1168 - accuracy: 0.9576 - val_loss: 0.3714 - val_accuracy: 0.9001 - lr: 2.0000e-04\n",
      "Epoch 17/30\n",
      "992/992 [==============================] - 2458s 2s/step - loss: 0.0901 - accuracy: 0.9685 - val_loss: 0.3591 - val_accuracy: 0.9037 - lr: 2.0000e-04\n",
      "Epoch 18/30\n",
      "992/992 [==============================] - 2446s 2s/step - loss: 0.0760 - accuracy: 0.9731 - val_loss: 0.3897 - val_accuracy: 0.8978 - lr: 2.0000e-04\n",
      "Epoch 19/30\n",
      "992/992 [==============================] - 2451s 2s/step - loss: 0.0674 - accuracy: 0.9760 - val_loss: 0.3846 - val_accuracy: 0.9040 - lr: 2.0000e-04\n",
      "Epoch 20/30\n",
      "992/992 [==============================] - 2451s 2s/step - loss: 0.0628 - accuracy: 0.9767 - val_loss: 0.3961 - val_accuracy: 0.9005 - lr: 2.0000e-04\n",
      "Epoch 21/30\n",
      "992/992 [==============================] - 2709s 3s/step - loss: 0.0566 - accuracy: 0.9799 - val_loss: 0.3894 - val_accuracy: 0.9047 - lr: 4.0000e-05\n",
      "Epoch 22/30\n",
      "992/992 [==============================] - 2823s 3s/step - loss: 0.0515 - accuracy: 0.9826 - val_loss: 0.3920 - val_accuracy: 0.9044 - lr: 4.0000e-05\n",
      "Epoch 23/30\n",
      "992/992 [==============================] - 3240s 3s/step - loss: 0.0490 - accuracy: 0.9828 - val_loss: 0.3880 - val_accuracy: 0.9064 - lr: 4.0000e-05\n",
      "Epoch 24/30\n",
      "992/992 [==============================] - 2799s 3s/step - loss: 0.0489 - accuracy: 0.9840 - val_loss: 0.3910 - val_accuracy: 0.9059 - lr: 4.0000e-05\n",
      "Epoch 25/30\n",
      "992/992 [==============================] - 3140s 3s/step - loss: 0.0475 - accuracy: 0.9838 - val_loss: 0.3875 - val_accuracy: 0.9073 - lr: 4.0000e-05\n",
      "Epoch 26/30\n",
      "992/992 [==============================] - 3018s 3s/step - loss: 0.0452 - accuracy: 0.9851 - val_loss: 0.3870 - val_accuracy: 0.9073 - lr: 1.0000e-05\n",
      "Epoch 27/30\n",
      "992/992 [==============================] - 2775s 3s/step - loss: 0.0452 - accuracy: 0.9846 - val_loss: 0.3883 - val_accuracy: 0.9078 - lr: 1.0000e-05\n",
      "Epoch 28/30\n",
      "992/992 [==============================] - 3696s 4s/step - loss: 0.0461 - accuracy: 0.9841 - val_loss: 0.3861 - val_accuracy: 0.9079 - lr: 1.0000e-05\n",
      "Epoch 29/30\n",
      "992/992 [==============================] - 2893s 3s/step - loss: 0.0454 - accuracy: 0.9843 - val_loss: 0.3905 - val_accuracy: 0.9080 - lr: 1.0000e-05\n",
      "Epoch 30/30\n",
      "992/992 [==============================] - 3012s 3s/step - loss: 0.0431 - accuracy: 0.9851 - val_loss: 0.3905 - val_accuracy: 0.9065 - lr: 1.0000e-05\n"
     ]
    }
   ],
   "source": [
    "# 3. Modell trainieren\n",
    "history = model.fit(\n",
    "    train_generator,\n",
    "    validation_data=validation_generator,\n",
    "    steps_per_epoch=train_generator.samples // BATCH_SIZE,\n",
    "    validation_steps=validation_generator.samples // BATCH_SIZE,\n",
    "    epochs=30, # Die Anzahl der Epochen kann angepasst werden\n",
    "    callbacks=[reduce_lr] \n",
    ")"
   ],
   "metadata": {
    "collapsed": false,
    "ExecuteTime": {
     "end_time": "2023-10-17T15:37:03.107397600Z",
     "start_time": "2023-10-16T17:43:41.226037600Z"
    }
   },
   "id": "ab2c580c140fa55a"
  },
  {
   "cell_type": "code",
   "execution_count": 6,
   "outputs": [],
   "source": [
    "model.save('Version_1.keras')"
   ],
   "metadata": {
    "collapsed": false,
    "ExecuteTime": {
     "end_time": "2023-10-17T15:37:04.741517500Z",
     "start_time": "2023-10-17T15:37:03.151829Z"
    }
   },
   "id": "9d1a50b07668d1b3"
  },
  {
   "cell_type": "code",
   "execution_count": 8,
   "outputs": [
    {
     "name": "stdout",
     "output_type": "stream",
     "text": [
      "INFO:tensorflow:Assets written to: mein_modell_dir/assets\n"
     ]
    },
    {
     "name": "stderr",
     "output_type": "stream",
     "text": [
      "INFO:tensorflow:Assets written to: mein_modell_dir/assets\n"
     ]
    }
   ],
   "source": [
    "model.save('mein_modell_dir/')"
   ],
   "metadata": {
    "collapsed": false,
    "ExecuteTime": {
     "end_time": "2023-10-17T18:22:58.722965200Z",
     "start_time": "2023-10-17T18:22:55.242759600Z"
    }
   },
   "id": "e22ea13e09dfda0e"
  },
  {
   "cell_type": "code",
   "execution_count": 9,
   "outputs": [
    {
     "name": "stderr",
     "output_type": "stream",
     "text": [
      "C:\\Users\\g065308\\PycharmProjects\\machinelearning\\venv\\Lib\\site-packages\\keras\\src\\engine\\training.py:3079: UserWarning: You are saving your model as an HDF5 file via `model.save()`. This file format is considered legacy. We recommend using instead the native Keras format, e.g. `model.save('my_model.keras')`.\n",
      "  saving_api.save_model(\n"
     ]
    }
   ],
   "source": [
    "model.save('C:\\\\Users\\\\g065308\\\\Drive Merkur.works\\\\Masterstudium\\\\Machine Learning - Neuronale Netze und Deep Learning\\\\Trainierte Modelle\\\\Version 1\\\\mein_modell.h5')"
   ],
   "metadata": {
    "collapsed": false,
    "ExecuteTime": {
     "end_time": "2023-10-17T18:26:02.905608700Z",
     "start_time": "2023-10-17T18:26:01.836448900Z"
    }
   },
   "id": "df4712b4b22dfa4d"
  },
  {
   "cell_type": "code",
   "execution_count": 10,
   "outputs": [
    {
     "name": "stdout",
     "output_type": "stream",
     "text": [
      "INFO:tensorflow:Assets written to: C:\\Users\\g065308\\Drive Merkur.works\\Masterstudium\\Machine Learning - Neuronale Netze und Deep Learning\\Trainierte Modelle\\Version 1\\mein_modell_dir/assets\n"
     ]
    },
    {
     "name": "stderr",
     "output_type": "stream",
     "text": [
      "INFO:tensorflow:Assets written to: C:\\Users\\g065308\\Drive Merkur.works\\Masterstudium\\Machine Learning - Neuronale Netze und Deep Learning\\Trainierte Modelle\\Version 1\\mein_modell_dir/assets\n"
     ]
    }
   ],
   "source": [
    "model.save('C:\\\\Users\\\\g065308\\\\Drive Merkur.works\\\\Masterstudium\\\\Machine Learning - Neuronale Netze und Deep Learning\\\\Trainierte Modelle\\\\Version 1\\\\mein_modell_dir/')"
   ],
   "metadata": {
    "collapsed": false,
    "ExecuteTime": {
     "end_time": "2023-10-17T18:26:27.316719600Z",
     "start_time": "2023-10-17T18:26:24.474114700Z"
    }
   },
   "id": "f31cfbcc8d4de7e1"
  },
  {
   "cell_type": "code",
   "execution_count": 12,
   "outputs": [],
   "source": [
    "import pickle\n",
    "\n",
    "# Pfad, unter dem der Trainingsverlauf gespeichert werden soll\n",
    "history_path = 'C:\\\\Users\\\\g065308\\\\Drive Merkur.works\\\\Masterstudium\\\\Machine Learning - Neuronale Netze und Deep Learning\\\\Trainierte Modelle\\\\Version 1\\\\train_history.pkl'\n",
    "\n",
    "# Speichern des Trainingsverlaufs\n",
    "with open(history_path, 'wb') as file:\n",
    "    pickle.dump(history.history, file)"
   ],
   "metadata": {
    "collapsed": false,
    "ExecuteTime": {
     "end_time": "2023-10-17T18:35:03.263381600Z",
     "start_time": "2023-10-17T18:35:03.251113400Z"
    }
   },
   "id": "3697575cf8b7d12b"
  },
  {
   "cell_type": "code",
   "execution_count": null,
   "outputs": [],
   "source": [],
   "metadata": {
    "collapsed": false
   },
   "id": "3d0b9c94460619db"
  }
 ],
 "metadata": {
  "kernelspec": {
   "display_name": "Python 3",
   "language": "python",
   "name": "python3"
  },
  "language_info": {
   "codemirror_mode": {
    "name": "ipython",
    "version": 2
   },
   "file_extension": ".py",
   "mimetype": "text/x-python",
   "name": "python",
   "nbconvert_exporter": "python",
   "pygments_lexer": "ipython2",
   "version": "2.7.6"
  }
 },
 "nbformat": 4,
 "nbformat_minor": 5
}
