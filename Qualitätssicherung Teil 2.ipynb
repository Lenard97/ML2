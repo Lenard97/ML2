{
 "cells": [
  {
   "cell_type": "code",
   "execution_count": 6,
   "id": "initial_id",
   "metadata": {
    "collapsed": true,
    "ExecuteTime": {
     "end_time": "2024-02-03T20:48:59.297083500Z",
     "start_time": "2024-02-03T20:48:58.969060900Z"
    }
   },
   "outputs": [
    {
     "name": "stdout",
     "output_type": "stream",
     "text": [
      "  ID,airline,flight,source_city,departure_time,stops,arrival_time,destination_city,class,Route,duration,days_left,price\n",
      "0  0,SpiceJet,SG-8709,Delhi,Evening,zero,Night,Mu...                                                                   \n",
      "1  1,SpiceJet,SG-8157,Delhi,Early_Morning,zero,Mo...                                                                   \n",
      "2  2,AirAsia,I5-764,Delhi,Early_Morning,zero,Earl...                                                                   \n",
      "3  3,Vistara,UK-995,Delhi,Morning,zero,Afternoon,...                                                                   \n",
      "4  4,Vistara,UK-963,Delhi,Morning,zero,Morning,Mu...                                                                   \n"
     ]
    }
   ],
   "source": [
    "import pandas as pd\n",
    "\n",
    "# Pfade zur CSV-Datei\n",
    "file_path = r'C:\\Users\\g065308\\Drive Merkur.works\\Masterstudium\\Qualitätssicherung und Erklärbarkeit in der Datenwissenschaft\\Data\\Flight Price Prediction\\clean_dataset_without_anomalies.csv'\n",
    "\n",
    "# Lade die CSV-Datei in ein DataFrame\n",
    "start_teil_2 = pd.read_csv(file_path, delimiter=';')\n",
    "\n",
    "# Zeige die ersten Zeilen des DataFrames an\n",
    "print(start_teil_2.head())\n"
   ]
  },
  {
   "cell_type": "code",
   "execution_count": 1,
   "outputs": [
    {
     "name": "stderr",
     "output_type": "stream",
     "text": [
      "IOPub data rate exceeded.\n",
      "The Jupyter server will temporarily stop sending output\n",
      "to the client in order to avoid crashing it.\n",
      "To change this limit, set the config variable\n",
      "`--ServerApp.iopub_data_rate_limit`.\n",
      "\n",
      "Current values:\n",
      "ServerApp.iopub_data_rate_limit=1000000.0 (bytes/sec)\n",
      "ServerApp.rate_limit_window=3.0 (secs)\n",
      "\n"
     ]
    }
   ],
   "source": [
    "from sklearn.preprocessing import LabelEncoder\n",
    "import pandas as pd\n",
    "from tabulate import tabulate\n",
    "\n",
    "# Lade die CSV-Datei in ein DataFrame \"Start Teil 2\"\n",
    "file_path_start_teil_2 = r'C:\\Users\\g065308\\Drive Merkur.works\\Masterstudium\\Qualitätssicherung und Erklärbarkeit in der Datenwissenschaft\\Data\\Flight Price Prediction\\clean_dataset_without_anomalies.csv'\n",
    "start_teil_2 = pd.read_csv(file_path_start_teil_2, delimiter=';')\n",
    "\n",
    "# Spalte in mehrere Spalten aufteilen\n",
    "start_teil_2[['ID', 'airline', 'flight', 'source_city', 'departure_time', 'stops', 'arrival_time', 'destination_city', 'class', 'Route', 'duration', 'days_left', 'price']] = start_teil_2['ID,airline,flight,source_city,departure_time,stops,arrival_time,destination_city,class,Route,duration,days_left,price'].str.split(',', expand=True)\n",
    "\n",
    "# Wähle nur die relevanten Spalten aus\n",
    "selected_columns = ['ID', 'airline', 'flight', 'source_city', 'departure_time', 'stops', 'arrival_time', 'destination_city', 'class', 'Route', 'duration', 'days_left', 'price']\n",
    "start_teil_2 = start_teil_2[selected_columns]\n",
    "\n",
    "# Erstelle eine Kopie des DataFrame, um Änderungen vorzunehmen\n",
    "df_encoded = start_teil_2.copy()\n",
    "\n",
    "# Erstelle einen LabelEncoder\n",
    "label_encoder = LabelEncoder()\n",
    "\n",
    "# Wähle die kategorialen Variablen aus dem DataFrame aus\n",
    "categorical_columns = ['airline', 'flight', 'source_city', 'departure_time', 'stops', 'arrival_time', 'destination_city', 'class']\n",
    "\n",
    "# Verwende Label Encoding für jede kategoriale Spalte\n",
    "for column in categorical_columns:\n",
    "    df_encoded[column] = label_encoder.fit_transform(df_encoded[column])\n",
    "\n",
    "# Zeige die transformierten Daten an\n",
    "#print(df_encoded.head())\n",
    "print(tabulate(df_encoded, headers='keys', tablefmt='pretty', showindex=False))"
   ],
   "metadata": {
    "collapsed": false,
    "ExecuteTime": {
     "end_time": "2024-02-03T20:52:13.734949600Z",
     "start_time": "2024-02-03T20:51:55.433511100Z"
    }
   },
   "id": "88f767014b5f916a"
  },
  {
   "cell_type": "code",
   "execution_count": null,
   "outputs": [],
   "source": [],
   "metadata": {
    "collapsed": false
   },
   "id": "657f2c3e01c543c6"
  }
 ],
 "metadata": {
  "kernelspec": {
   "display_name": "Python 3",
   "language": "python",
   "name": "python3"
  },
  "language_info": {
   "codemirror_mode": {
    "name": "ipython",
    "version": 2
   },
   "file_extension": ".py",
   "mimetype": "text/x-python",
   "name": "python",
   "nbconvert_exporter": "python",
   "pygments_lexer": "ipython2",
   "version": "2.7.6"
  }
 },
 "nbformat": 4,
 "nbformat_minor": 5
}
